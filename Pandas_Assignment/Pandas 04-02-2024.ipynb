{
 "cells": [
  {
   "cell_type": "code",
   "execution_count": 2,
   "id": "98138445",
   "metadata": {},
   "outputs": [
    {
     "name": "stdout",
     "output_type": "stream",
     "text": [
      "enter any number : -7\n",
      "Entered negative\n"
     ]
    }
   ],
   "source": [
    "# Que:1. python program to check number is positive or negative.\n",
    "\n",
    "n=int(input('enter any number : '))\n",
    "if n<=0:\n",
    "    if n==0:\n",
    "        print('Entered zero')\n",
    "    else:\n",
    "        print('Entered negative')\n",
    "else:\n",
    "    print('Entered positive')"
   ]
  },
  {
   "cell_type": "code",
   "execution_count": 3,
   "id": "e5130895",
   "metadata": {},
   "outputs": [
    {
     "name": "stdout",
     "output_type": "stream",
     "text": [
      "enter number :5\n",
      "120\n"
     ]
    }
   ],
   "source": [
    "# Que:2. python program to get the factorial number of given number.\n",
    "\n",
    "number=int(input('enter number :'))\n",
    "n=1\n",
    "for i in range(number,0,-1):\n",
    "    n=n*i\n",
    "print(n)"
   ]
  },
  {
   "cell_type": "code",
   "execution_count": 5,
   "id": "2bfd0bb3",
   "metadata": {},
   "outputs": [
    {
     "name": "stdout",
     "output_type": "stream",
     "text": [
      "enter the number : 6\n",
      "6 is even number\n"
     ]
    }
   ],
   "source": [
    "# Que:3. python program to find whether the given number is even or odd.\n",
    "\n",
    "n=int(input('enter the number : '))\n",
    "if n%2==0:\n",
    "    print(n, 'is even number')\n",
    "else:\n",
    "    print(n, 'is odd number')"
   ]
  },
  {
   "cell_type": "code",
   "execution_count": 7,
   "id": "9d829c7e",
   "metadata": {},
   "outputs": [
    {
     "name": "stdout",
     "output_type": "stream",
     "text": [
      "enter any letter :i\n",
      "i is vowel letter\n"
     ]
    }
   ],
   "source": [
    "# Que:4. python program to find the letter is vowel or not.\n",
    "\n",
    "l=input('enter any letter :')\n",
    "if l in ('aeiouAEIOU'):\n",
    "    print(l, 'is vowel letter')\n",
    "else:\n",
    "    print(l, 'is Consonent')"
   ]
  },
  {
   "cell_type": "code",
   "execution_count": 13,
   "id": "857b1df6",
   "metadata": {},
   "outputs": [
    {
     "name": "stdout",
     "output_type": "stream",
     "text": [
      "enter First number :3\n",
      "enter Second number :4\n",
      "enter Third number :3\n",
      "The Sum of entered number is : \n",
      "zero(0)\n"
     ]
    }
   ],
   "source": [
    "# Que:5. Write a Python program to sum of three given integers.However, if two values are equal sum will be zero.\n",
    "\n",
    "n1=int(input('enter First number :'))\n",
    "n2=int(input('enter Second number :'))\n",
    "n3=int(input('enter Third number :'))\n",
    "print(\"The Sum of entered number is : \")\n",
    "if n1==n2 or n1==n3 or n2==n3:\n",
    "    print('zero(0)')\n",
    "else:\n",
    "    sum=num1+num2+num3\n",
    "    print(sum)"
   ]
  },
  {
   "cell_type": "code",
   "execution_count": 2,
   "id": "308633fd",
   "metadata": {},
   "outputs": [
    {
     "name": "stdout",
     "output_type": "stream",
     "text": [
      "enter the number1 :5\n",
      "enter the number2 :4\n",
      "4\n",
      "5\n",
      "5\n",
      "4\n"
     ]
    }
   ],
   "source": [
    "# Que:6. python program that swap two number with temp variable and without temp variable.\n",
    "\n",
    "x=int(input('enter the number1 :'))\n",
    "y=int(input('enter the number2 :'))\n",
    "if x!=y:\n",
    "    if x>y or x<y:\n",
    "        x=x+y\n",
    "        y=x-y\n",
    "        x=x-y\n",
    "print(x)\n",
    "print(y)\n",
    "\n",
    "# With temporary variable\n",
    "p=x+y\n",
    "x=p-x\n",
    "y=p-y\n",
    "\n",
    "print(x)\n",
    "print(y)\n"
   ]
  },
  {
   "cell_type": "code",
   "execution_count": null,
   "id": "7df49eea",
   "metadata": {},
   "outputs": [],
   "source": []
  },
  {
   "cell_type": "code",
   "execution_count": 3,
   "id": "1b819866",
   "metadata": {},
   "outputs": [
    {
     "name": "stdout",
     "output_type": "stream",
     "text": [
      "enter the number4\n",
      "enter the number4\n",
      "True\n"
     ]
    }
   ],
   "source": [
    "# Que:7. python program that will return true if two given integer values are equal or their sum or difference is 5.\n",
    "\n",
    "a=int(input('enter the number'))\n",
    "b=int(input('enter the number'))\n",
    "c=False\n",
    "if a==b or a+b==5 or a-b==5:\n",
    "    c = True\n",
    "    print(c)\n",
    "else:\n",
    "    print(c)"
   ]
  },
  {
   "cell_type": "code",
   "execution_count": 1,
   "id": "e5f9e7ff",
   "metadata": {},
   "outputs": [
    {
     "name": "stdout",
     "output_type": "stream",
     "text": [
      "enter the number5\n",
      "15\n"
     ]
    }
   ],
   "source": [
    "# Que:8. python program to sum of the first n positive integers.\n",
    "\n",
    "num=int(input('enter the number'))\n",
    "j=0\n",
    "for i in range(1,num+1):\n",
    "    j=j+i\n",
    "print(j)"
   ]
  },
  {
   "cell_type": "code",
   "execution_count": 3,
   "id": "9ca853d1",
   "metadata": {},
   "outputs": [
    {
     "name": "stdout",
     "output_type": "stream",
     "text": [
      "enter number7\n",
      "prime\n"
     ]
    }
   ],
   "source": [
    "#Que:9. python program to check whether the number is prime or not.\n",
    "\n",
    "num=int(input('enter number : '))\n",
    "for i in range(2,num+1):\n",
    "    if i<num and num%i==0:\n",
    "        print('not prime')\n",
    "        break\n",
    "        \n",
    "    if num%i==0 and i==num :\n",
    "        print('prime')\n",
    "        break\n",
    "        \n",
    "if num<=1 and num>0:\n",
    "    print('prime')\n",
    "    \n",
    "if num==0:\n",
    "    print('Zero number')"
   ]
  },
  {
   "cell_type": "code",
   "execution_count": 6,
   "id": "625448ee",
   "metadata": {},
   "outputs": [
    {
     "name": "stdout",
     "output_type": "stream",
     "text": [
      "enter the number : 5\n",
      "0\n",
      "1\n",
      "1\n",
      "2\n",
      "3\n",
      "5\n"
     ]
    }
   ],
   "source": [
    "# Que:10. python program to get the fibonacci seriesif given range.\n",
    "\n",
    "num=int(input('enter the number : '))\n",
    "x=0 \n",
    "y=1\n",
    "if x==num:\n",
    "    print(x)\n",
    "else:\n",
    "    print(x)\n",
    "    print(y)\n",
    "    for i in range(2,num+1):\n",
    "        z=x+y\n",
    "        x=y\n",
    "        y=z\n",
    "        print(z)\n",
    "    \n",
    "    "
   ]
  },
  {
   "cell_type": "code",
   "execution_count": null,
   "id": "c3794f47",
   "metadata": {},
   "outputs": [],
   "source": [
    "# Que:11. what is the purpose of continue statement in python?\n",
    "\n",
    "# ans. In python the purpose of continue statement is to leave the current iteration and start nextniteration or continue from next iteration."
   ]
  },
  {
   "cell_type": "code",
   "execution_count": 9,
   "id": "84177451",
   "metadata": {},
   "outputs": [
    {
     "name": "stdout",
     "output_type": "stream",
     "text": [
      "enter any string : there where errors\n",
      "t : 1\n",
      "h : 2\n",
      "e : 5\n",
      "r : 5\n",
      "e : 5\n",
      "w : 1\n",
      "h : 2\n",
      "e : 5\n",
      "r : 5\n",
      "e : 5\n",
      "e : 5\n",
      "r : 5\n",
      "r : 5\n",
      "o : 1\n",
      "r : 5\n",
      "s : 1\n"
     ]
    }
   ],
   "source": [
    "# Que:12. python program to count the number of character (character of frequency) in a string.\n",
    "\n",
    "string=input('enter any string : ')\n",
    "for i in string:\n",
    "    if i.isalpha():\n",
    "        s=string.count(i)\n",
    "        print(i, ':',  s)\n",
    "        "
   ]
  },
  {
   "cell_type": "code",
   "execution_count": 12,
   "id": "f076bcf4",
   "metadata": {},
   "outputs": [
    {
     "name": "stdout",
     "output_type": "stream",
     "text": [
      "enter the string ==>jigar parmar\n",
      "\n",
      "the length of your string is :  12\n"
     ]
    }
   ],
   "source": [
    "# Que:13. python program to calculate the length of the string.\n",
    "\n",
    "string=input('enter the string ==>')\n",
    "strr=len(string)\n",
    "print(\"\")\n",
    "print('the length of your string is : ',strr)"
   ]
  },
  {
   "cell_type": "code",
   "execution_count": 13,
   "id": "6b8ed5ad",
   "metadata": {},
   "outputs": [
    {
     "name": "stdout",
     "output_type": "stream",
     "text": [
      "enter the string ==> jigar is a data scientist\n",
      "enter the substring ==>is\n",
      "2\n"
     ]
    }
   ],
   "source": [
    "# Que:14. python program to count the occurrences of a substring in a string.\n",
    "\n",
    "num=input('enter the string ==> ')\n",
    "sub=input('enter the substring ==>')\n",
    "ans=num.count(sub)\n",
    "print(ans)"
   ]
  },
  {
   "cell_type": "code",
   "execution_count": null,
   "id": "41ddd86c",
   "metadata": {},
   "outputs": [],
   "source": [
    "# Que:15. What are negative indexes and why are they used?\n",
    "\n",
    "# ans. Negative Indexing is to begin slicing from the end of the string. Slicing in Python gets \n",
    "# a sub-string from a string. It is generally used to find the index value of a character or element.\n",
    "# For the last element/ character it starts from -1."
   ]
  },
  {
   "cell_type": "code",
   "execution_count": 16,
   "id": "ad50035a",
   "metadata": {},
   "outputs": [
    {
     "name": "stdout",
     "output_type": "stream",
     "text": [
      "enter any string ==> this is a is a \n",
      "this : 1\n",
      "is : 3\n",
      "a : 2\n",
      "is : 3\n",
      "a : 2\n"
     ]
    }
   ],
   "source": [
    "# Que:16. python program to count the occurrences of each word in a given string. \n",
    "\n",
    "num=input('enter any string ==> ')\n",
    "spl=num.split()\n",
    "for i in spl:\n",
    "    sts=num.count(i)\n",
    "    sts1=i\n",
    "    print(sts1,':',sts)"
   ]
  },
  {
   "cell_type": "code",
   "execution_count": 17,
   "id": "0b00d3bf",
   "metadata": {},
   "outputs": [
    {
     "name": "stdout",
     "output_type": "stream",
     "text": [
      "enter the first string.\n",
      "1.jigar\n",
      "enter the second string.\n",
      "2.nayan\n",
      "answer:-\n",
      "nagar jiyan\n"
     ]
    }
   ],
   "source": [
    "# Que:17. Write a Python program to get a single string from two given strings,separated by a space \n",
    "# and swap the first two characters of each string.\n",
    "\n",
    "l1=input('enter the first string.\\n1.')\n",
    "l2=input('enter the second string.\\n2.')\n",
    "str1=l1[0:2]\n",
    "str2=l2[0:2]\n",
    "ans=l1.replace(str1,str2)\n",
    "ans1=l2.replace(str2,str1)\n",
    "ans2=f'{ans} {ans1}'\n",
    "print('answer:-\\n'+ans2)"
   ]
  },
  {
   "cell_type": "code",
   "execution_count": 19,
   "id": "a3dea9a3",
   "metadata": {},
   "outputs": [
    {
     "name": "stdout",
     "output_type": "stream",
     "text": [
      "enter the string : gily\n",
      "gilying\n"
     ]
    }
   ],
   "source": [
    "#Que:18. Write a Python program to add 'ing' at the end of a given string (length should be at\n",
    "# least 3). If the given string already ends with 'ing' then add 'ly' instead. if the string \n",
    "# length of the given string is less than 3, leave it unchanged.\n",
    "\n",
    "str1=input('enter the string : ') \n",
    "i='ing' \n",
    "w=str1.endswith('ing') \n",
    "if len(str1)>=3 and str1==w :\n",
    "    str3=str1.replace('ing','ly')\n",
    "    print(str3) \n",
    "elif len(str1)>=3 and str1!=w:\n",
    "    str2=f'{str1}{i}' \n",
    "    print(str2) \n",
    "if len(str1)<3:\n",
    "    print(str1)"
   ]
  },
  {
   "cell_type": "code",
   "execution_count": null,
   "id": "e40ac883",
   "metadata": {},
   "outputs": [],
   "source": [
    "# Que:19. Write a Python program to find the first appearance of the substring 'not'and 'poor' from a \n",
    "# given string, if 'not' follows the 'poor', replace the whole 'not'...'poor'substring with 'good'. \n",
    "# Return the resulting string.\n",
    "\n",
    "sts=input('enter the string : ')\n",
    "p=sts.index('not')\n",
    "q=sts.rindex('poor')\n",
    "s=q+4\n",
    "l=sts[p:s]\n",
    "q=sts.replace(l,'good')\n",
    "if p<q:\n",
    "    print(a2)\n"
   ]
  },
  {
   "cell_type": "code",
   "execution_count": 1,
   "id": "5a2c4b7b",
   "metadata": {},
   "outputs": [
    {
     "name": "stdout",
     "output_type": "stream",
     "text": [
      "enter the list of few word : my Name is Khaan\n",
      "['my', 'Name', 'is', 'Khaan']\n",
      "Khaan : 5\n"
     ]
    }
   ],
   "source": [
    "# Que:20. Write a Python function that takes a list of words and returns the length\n",
    "# of the longest one.\n",
    "\n",
    "l=input('enter the list of few word : ')\n",
    "l1=l.split()\n",
    "l2=0\n",
    "l3=0\n",
    "print(l1)\n",
    "for i in l1:\n",
    "    if len(i)>l2:\n",
    "        l2=len(i)\n",
    "        name=i\n",
    "    else:\n",
    "        if len(i)<l2:\n",
    "            l3=len(i)\n",
    "print(name,':',l2)"
   ]
  },
  {
   "cell_type": "code",
   "execution_count": 5,
   "id": "422ba316",
   "metadata": {},
   "outputs": [
    {
     "name": "stdout",
     "output_type": "stream",
     "text": [
      "enter the word : hony\n",
      "ynoh\n"
     ]
    }
   ],
   "source": [
    "# Que:21 Write a Python function to reverses a string if its length is a multiple of 4.\n",
    "\n",
    "st1=input('enter the word : ')\n",
    "st2=len(st1)\n",
    "if st2%4==0:\n",
    "    print(st1[-1::-1])"
   ]
  },
  {
   "cell_type": "code",
   "execution_count": null,
   "id": "bf482285",
   "metadata": {},
   "outputs": [],
   "source": [
    "# Que:22. Write a Python program to get a string made of the first 2 and the last 2chars from a given\n",
    "# a string.Ifthe string length islessthan 2,return instead of the empty string.\n",
    "\n",
    "sta=input('enter the string.\\n')\n",
    "len1=len(sta)\n",
    "ch1=sta[0:2]\n",
    "ch2=sta[-2::]\n",
    "if len1<2:\n",
    "    print('empty string.')\n",
    "elif len1<3 and len1>1:\n",
    "    print(sta)\n",
    "elif len1>=3:\n",
    "    print(ch1,ch2,sep='')"
   ]
  },
  {
   "cell_type": "code",
   "execution_count": null,
   "id": "9bd67bd3",
   "metadata": {},
   "outputs": [],
   "source": [
    "# Que:23. write a Python function to insert a string in the middle of a string.\n",
    "\n",
    "sts=input('enter the first string.\\n')\n",
    "sts1=input('enter the second string.\\n')\n",
    "ans=len(sts)//2\n",
    "ans1=sts[:ans:]\n",
    "ans2=sts[ans::]\n",
    "if ans%2==0:\n",
    "    ans3=f'{ans1}{sts1}{ans2}'\n",
    "    print(ans3)\n",
    "elif ans%2!=0:\n",
    "    print(ans1,sts1,ans2,sep=' ')"
   ]
  }
 ],
 "metadata": {
  "kernelspec": {
   "display_name": "Python 3 (ipykernel)",
   "language": "python",
   "name": "python3"
  },
  "language_info": {
   "codemirror_mode": {
    "name": "ipython",
    "version": 3
   },
   "file_extension": ".py",
   "mimetype": "text/x-python",
   "name": "python",
   "nbconvert_exporter": "python",
   "pygments_lexer": "ipython3",
   "version": "3.9.13"
  }
 },
 "nbformat": 4,
 "nbformat_minor": 5
}
