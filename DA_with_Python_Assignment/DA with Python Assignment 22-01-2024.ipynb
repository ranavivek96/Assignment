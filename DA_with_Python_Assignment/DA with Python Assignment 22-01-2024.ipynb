{
 "cells": [
  {
   "cell_type": "markdown",
   "id": "c6fe0181",
   "metadata": {},
   "source": [
    "# DA - Introduction to Python Assignment \n",
    "submitted by: Vivek Rana"
   ]
  },
  {
   "cell_type": "markdown",
   "id": "beffc7b7",
   "metadata": {},
   "source": [
    "----------- String ----------- "
   ]
  },
  {
   "cell_type": "markdown",
   "id": "31c64ba9",
   "metadata": {},
   "source": [
    "1. Write a Python program to count the number of characters (character frequency) in a string"
   ]
  },
  {
   "cell_type": "code",
   "execution_count": 1,
   "id": "0b7ca1a3",
   "metadata": {},
   "outputs": [
    {
     "name": "stdout",
     "output_type": "stream",
     "text": [
      "{'H': 1, 'e': 1, 'l': 3, 'o': 2, '_': 1, 'w': 1, 'r': 1, 'd': 1}\n"
     ]
    }
   ],
   "source": [
    "str = 'Hello_world'\n",
    "\n",
    "char_dict={}\n",
    "\n",
    "for A in str:\n",
    "    if A in char_dict:\n",
    "        char_dict[A]+=1\n",
    "    else:\n",
    "        char_dict[A]=1\n",
    "        \n",
    "print(char_dict)"
   ]
  },
  {
   "cell_type": "markdown",
   "id": "188078cf",
   "metadata": {},
   "source": [
    "2. Write a Python program to get a string from a given string where all occurrences of its first char have been changed to '$' ,except the first char itself"
   ]
  },
  {
   "cell_type": "code",
   "execution_count": 2,
   "id": "1560ce19",
   "metadata": {},
   "outputs": [
    {
     "name": "stdout",
     "output_type": "stream",
     "text": [
      "Mic$osoft"
     ]
    }
   ],
   "source": [
    "str='Microsoft'\n",
    "\n",
    "for A in str:\n",
    "    print(A.replace('r','$'),end='')"
   ]
  },
  {
   "cell_type": "markdown",
   "id": "86aa8343",
   "metadata": {},
   "source": [
    "3. Write a Python function that takes a list of words and returns the length of the longest one"
   ]
  },
  {
   "cell_type": "code",
   "execution_count": 3,
   "id": "ca35bce6",
   "metadata": {},
   "outputs": [
    {
     "name": "stdout",
     "output_type": "stream",
     "text": [
      "11\n"
     ]
    }
   ],
   "source": [
    "def find_longest_word(words):\n",
    "    longest_lenghth=0\n",
    "    for word in words:\n",
    "        if len(word) > longest_lenghth:\n",
    "            longest_length = len(word)\n",
    "    return longest_length\n",
    "\n",
    "word_list=['Hello','world','pizza_Zone','burgur_king']\n",
    "longest_word_length=find_longest_word(word_list)\n",
    "print(longest_word_length)"
   ]
  },
  {
   "cell_type": "markdown",
   "id": "b5ef1afd",
   "metadata": {},
   "source": [
    "4. Write a Python program to count the occurrences of each word in a given sentence"
   ]
  },
  {
   "cell_type": "code",
   "execution_count": 4,
   "id": "81340e0a",
   "metadata": {},
   "outputs": [
    {
     "name": "stdout",
     "output_type": "stream",
     "text": [
      "{'This': 1, 'butterfly': 1, 'wings': 1, 'is': 1, 'very': 1, 'beautiful': 1}\n"
     ]
    }
   ],
   "source": [
    "def word_count(str):\n",
    "    count=dict()\n",
    "    words=str.split()\n",
    "    \n",
    "    for word in words:\n",
    "        if word in count:\n",
    "            count[word]+=1\n",
    "        else:\n",
    "                count[word]=1\n",
    "    return count\n",
    "    \n",
    "print(word_count(\"This butterfly wings is very beautiful\"))"
   ]
  },
  {
   "cell_type": "markdown",
   "id": "15622e80",
   "metadata": {},
   "source": [
    "5. Write a Python function to convert a given string to all uppercase if it contains at least 2 uppercase characters in the first 4 characters"
   ]
  },
  {
   "cell_type": "code",
   "execution_count": 5,
   "id": "89e3d4a5",
   "metadata": {},
   "outputs": [
    {
     "name": "stdout",
     "output_type": "stream",
     "text": [
      "ABCDEFGHI\n"
     ]
    }
   ],
   "source": [
    "def ctu(str):\n",
    "    count=0\n",
    "    for char in str[:4]:\n",
    "        if char.isupper():\n",
    "            count+=1\n",
    "    if count>=2:\n",
    "        return str.upper()\n",
    "    else: \n",
    "        return str\n",
    "    \n",
    "print(ctu('AbCdeFghi'))"
   ]
  },
  {
   "cell_type": "markdown",
   "id": "3a49ef94",
   "metadata": {},
   "source": [
    "6. Write a Python program to count and display the vowels of a given text"
   ]
  },
  {
   "cell_type": "code",
   "execution_count": null,
   "id": "03ecab29",
   "metadata": {},
   "outputs": [],
   "source": [
    "text=input('Enter the text here:').lower()\n",
    "vowels='aeiou'\n",
    "vowel_count={vovwel: text.count(vowel) for vowel in vowels}\n",
    "print('vowel counts:')\n",
    "for vowel,count in vowel_count.items():\n",
    "    print(f'{vowel}:{count}')"
   ]
  },
  {
   "cell_type": "markdown",
   "id": "c5224ffb",
   "metadata": {},
   "source": [
    "----------- List ----------- "
   ]
  },
  {
   "cell_type": "markdown",
   "id": "20819b7e",
   "metadata": {},
   "source": [
    "1. Write a Python program to check a list is empty or not"
   ]
  },
  {
   "cell_type": "code",
   "execution_count": null,
   "id": "2c73667e",
   "metadata": {},
   "outputs": [],
   "source": [
    "list=(['AA','BB','CC','DD'],[ ],['EE','FF'])\n",
    "for x in list:\n",
    "    if not list:\n",
    "        print(\"This list is Empty\")\n",
    "    else: \n",
    "        print(\"This list is Not Empty\")"
   ]
  },
  {
   "cell_type": "markdown",
   "id": "a0cb3dbe",
   "metadata": {},
   "source": [
    "2. Write a Python program to remove duplicates from a list"
   ]
  },
  {
   "cell_type": "code",
   "execution_count": 7,
   "id": "1b070dbc",
   "metadata": {},
   "outputs": [
    {
     "name": "stdout",
     "output_type": "stream",
     "text": [
      "[2, 5, 7, 9, 3, 4, 8, 1]\n"
     ]
    }
   ],
   "source": [
    "def rd(duplicate):\n",
    "    final_list=[]\n",
    "    for num in duplicate:\n",
    "        if num not in final_list:\n",
    "            final_list.append(num)\n",
    "    return final_list\n",
    "\n",
    "duplicate=[2,5,7,9,3,4,8,5,8,1,4,3]\n",
    "print(rd(duplicate))"
   ]
  },
  {
   "cell_type": "markdown",
   "id": "da92d4ad",
   "metadata": {},
   "source": [
    "3. Write a Python function that takes two lists and returns True if they have at least one"
   ]
  },
  {
   "cell_type": "code",
   "execution_count": 8,
   "id": "0256f957",
   "metadata": {},
   "outputs": [
    {
     "name": "stdout",
     "output_type": "stream",
     "text": [
      "The list do not have any common members\n"
     ]
    }
   ],
   "source": [
    "list1=[1,2,3,4,0]\n",
    "list2=[5,6,7,8,9]\n",
    "def comman_member(list1, list2):\n",
    "    for item in list1:\n",
    "        if item in list2:\n",
    "            return True\n",
    "    return False \n",
    "result=comman_member(list1,list2)\n",
    "if result:\n",
    "    print('The list have at least one common member')\n",
    "else:\n",
    "        print('The list do not have any common members')"
   ]
  },
  {
   "cell_type": "markdown",
   "id": "4df1059b",
   "metadata": {},
   "source": [
    "4. Write a Python program to get the difference between the two lists"
   ]
  },
  {
   "cell_type": "code",
   "execution_count": 9,
   "id": "65cd72d6",
   "metadata": {
    "scrolled": true
   },
   "outputs": [
    {
     "name": "stdout",
     "output_type": "stream",
     "text": [
      "The difference between list-1 and list-2 is: [11, 12]\n"
     ]
    }
   ],
   "source": [
    "list1=[11,12,13,14,15]\n",
    "list2=[13,14,15,16,17]\n",
    "difference=[x\n",
    "           for x in list1\n",
    "           if x not in list2]\n",
    "print('The difference between list-1 and list-2 is:',difference)"
   ]
  },
  {
   "cell_type": "markdown",
   "id": "33244cc7",
   "metadata": {},
   "source": [
    "5. Write a Python program to find the second smallest number in a list"
   ]
  },
  {
   "cell_type": "code",
   "execution_count": 10,
   "id": "c9b9624d",
   "metadata": {},
   "outputs": [
    {
     "name": "stdout",
     "output_type": "stream",
     "text": [
      "The second smallest number is: 23\n"
     ]
    }
   ],
   "source": [
    "Numbers=[26,29,28,30,21,24,23]\n",
    "second_smallest=min([x\n",
    "                 for x in Numbers\n",
    "                 if x!=min(Numbers)])\n",
    "print('The second smallest number is:', second_smallest)"
   ]
  },
  {
   "cell_type": "markdown",
   "id": "dfe8235b",
   "metadata": {},
   "source": [
    "6. Write a Python program to find the second largest number in a list"
   ]
  },
  {
   "cell_type": "code",
   "execution_count": 11,
   "id": "f889d5b4",
   "metadata": {},
   "outputs": [
    {
     "name": "stdout",
     "output_type": "stream",
     "text": [
      "The second largest number is: 29\n"
     ]
    }
   ],
   "source": [
    "Numbers=[26,29,28,30,21,24,23]\n",
    "second_largest=max([x\n",
    "                 for x in Numbers\n",
    "                 if x!=max(Numbers)])\n",
    "print('The second largest number is:', second_largest)"
   ]
  },
  {
   "cell_type": "markdown",
   "id": "328c09da",
   "metadata": {},
   "source": [
    "7. Write a Python program to get the frequency of the elements in a list"
   ]
  },
  {
   "cell_type": "code",
   "execution_count": 12,
   "id": "6001a8ff",
   "metadata": {},
   "outputs": [
    {
     "name": "stdout",
     "output_type": "stream",
     "text": [
      "1: 3 times\n",
      "2: 3 times\n",
      "3: 1 times\n",
      "4: 2 times\n"
     ]
    }
   ],
   "source": [
    "list=[1,1,1,2,2,2,3,4,4]\n",
    "frequency_dict={}\n",
    "for item in list:\n",
    "    if item in frequency_dict:\n",
    "        frequency_dict[item]+=1\n",
    "    else:\n",
    "        frequency_dict[item]=1\n",
    "        \n",
    "for key,value in frequency_dict.items():\n",
    "    print(f'{key}: {value} times')   "
   ]
  },
  {
   "cell_type": "markdown",
   "id": "71342271",
   "metadata": {},
   "source": [
    "8. Write a Python program to convert a list of multiple integers into a single integer"
   ]
  },
  {
   "cell_type": "code",
   "execution_count": 13,
   "id": "24c62fea",
   "metadata": {},
   "outputs": [
    {
     "name": "stdout",
     "output_type": "stream",
     "text": [
      "123"
     ]
    }
   ],
   "source": [
    "list=[1,2,3]\n",
    "for i in list:\n",
    "    print(i,end='')"
   ]
  },
  {
   "cell_type": "markdown",
   "id": "116bc431",
   "metadata": {},
   "source": [
    "9. Write a Python program to compute the similarity between two lists"
   ]
  },
  {
   "cell_type": "code",
   "execution_count": 14,
   "id": "4b40142a",
   "metadata": {},
   "outputs": [
    {
     "name": "stdout",
     "output_type": "stream",
     "text": [
      "color1-2: ['red', 'orange', 'white']\n",
      "color2-1: ['black', 'yellow']\n"
     ]
    }
   ],
   "source": [
    "list1=['red','orange','green','blue','white']\n",
    "list2=['black','yellow','green','blue']\n",
    "color1_2=[x\n",
    "         for x in list1\n",
    "         if x not in list2]\n",
    "color2_1=[x\n",
    "         for x in list2\n",
    "         if x not in list1]\n",
    "print('color1-2:',color1_2)\n",
    "print('color2-1:',color2_1)"
   ]
  },
  {
   "cell_type": "markdown",
   "id": "5b0ca17e",
   "metadata": {},
   "source": [
    "10. Write a Python program to check if all dictionaries in a list are empty or not"
   ]
  },
  {
   "cell_type": "code",
   "execution_count": 15,
   "id": "9de1fe94",
   "metadata": {},
   "outputs": [
    {
     "name": "stdout",
     "output_type": "stream",
     "text": [
      "Result for list-1: True\n",
      "Result for list-2: False\n"
     ]
    }
   ],
   "source": [
    "list1=[{},{}]\n",
    "list2=[{'a':'b'}, ]\n",
    "result1=all(not d for d in list1)\n",
    "result2=all(not d for d in list2)\n",
    "\n",
    "print('Result for list-1:',result1)\n",
    "print('Result for list-2:',result2)"
   ]
  },
  {
   "cell_type": "markdown",
   "id": "8f6db024",
   "metadata": {},
   "source": [
    "----------- Dictionary ----------- "
   ]
  },
  {
   "cell_type": "markdown",
   "id": "211efcca",
   "metadata": {},
   "source": [
    "1. "
   ]
  },
  {
   "cell_type": "code",
   "execution_count": 16,
   "id": "e799de0b",
   "metadata": {},
   "outputs": [
    {
     "name": "stdout",
     "output_type": "stream",
     "text": [
      "{1: 1, 2: 4, 3: 9, 4: 16, 5: 25}\n"
     ]
    }
   ],
   "source": [
    "n=5\n",
    "dict1={}\n",
    "for val in range(1,n+1):\n",
    "    dict1[val]=val**2\n",
    "    \n",
    "print(dict1)"
   ]
  },
  {
   "cell_type": "markdown",
   "id": "8e7bcfeb",
   "metadata": {},
   "source": [
    "2. "
   ]
  },
  {
   "cell_type": "code",
   "execution_count": 17,
   "id": "27b437ed",
   "metadata": {},
   "outputs": [
    {
     "name": "stdout",
     "output_type": "stream",
     "text": [
      "{'a': 400, 'b': 400, 'c': 300, 'd': 400}\n"
     ]
    }
   ],
   "source": [
    "d1={'a':100,'b':200,'c':300}\n",
    "d2={'a':300,'b':200,'d':400}\n",
    "\n",
    "d3={}\n",
    "\n",
    "for key in d1:\n",
    "    if key not in d3:\n",
    "        d3[key]=d1[key]\n",
    "        \n",
    "for key in d2:\n",
    "    if key not in d3:\n",
    "        d3[key]=d2[key]\n",
    "    else:\n",
    "            d3[key]+=d2[key]\n",
    "\n",
    "print(d3)"
   ]
  },
  {
   "cell_type": "markdown",
   "id": "686471a5",
   "metadata": {},
   "source": [
    "3. "
   ]
  },
  {
   "cell_type": "code",
   "execution_count": 18,
   "id": "d69bce9f",
   "metadata": {},
   "outputs": [
    {
     "name": "stdout",
     "output_type": "stream",
     "text": [
      "{'S007', 'S001', 'S009', 'S002', 'S005'}\n"
     ]
    }
   ],
   "source": [
    "val=[{\"V\":'S001'},{\"V\":\"S002\"},\n",
    "     {\"VI\":\"S001\"},{\"VI\":\"S005\"},\n",
    "     {\"VII\":\"S005\"},{\"V\":\"S009\"},\n",
    "     {\"VIII\":\"S007\"}]\n",
    "\n",
    "set1=set()\n",
    "for x in val:\n",
    "    set1.update(set(x.values()))\n",
    "    \n",
    "print(set1)"
   ]
  },
  {
   "cell_type": "markdown",
   "id": "421e6438",
   "metadata": {},
   "source": [
    "4. "
   ]
  },
  {
   "cell_type": "code",
   "execution_count": 19,
   "id": "ded8f48a",
   "metadata": {},
   "outputs": [
    {
     "name": "stdout",
     "output_type": "stream",
     "text": [
      "ac ad bc bd "
     ]
    }
   ],
   "source": [
    "dict1={'1':['a','b'],'2':['c','d']}\n",
    "\n",
    "for x in dict1['1']:\n",
    "    for y in dict1['2']:\n",
    "        print(x,y,sep='',end=' ')"
   ]
  },
  {
   "cell_type": "markdown",
   "id": "1ab55166",
   "metadata": {},
   "source": [
    "5. Write a Python program to create a dictionary from a string"
   ]
  },
  {
   "cell_type": "code",
   "execution_count": 20,
   "id": "5e44acf3",
   "metadata": {},
   "outputs": [
    {
     "name": "stdout",
     "output_type": "stream",
     "text": [
      "{'p': 1, 'i': 1, 'z': 2, 'a': 1, '1': 1}\n"
     ]
    }
   ],
   "source": [
    "str='pizza1'\n",
    "demo_count={}\n",
    "for x in str:\n",
    "    if x in demo_count:\n",
    "        demo_count[x]+=1\n",
    "    else:\n",
    "        demo_count[x]=1\n",
    "        \n",
    "print(demo_count)"
   ]
  },
  {
   "cell_type": "markdown",
   "id": "e5b54d1b",
   "metadata": {},
   "source": [
    "6. Write a Python program to count the values associated with key in a dictionary"
   ]
  },
  {
   "cell_type": "code",
   "execution_count": 21,
   "id": "cd65451f",
   "metadata": {},
   "outputs": [
    {
     "name": "stdout",
     "output_type": "stream",
     "text": [
      "Count of dictionarys with \"success\" as True: 2\n"
     ]
    }
   ],
   "source": [
    "database=[{'id':1,'success':True,'name':'Lary'},\n",
    "        {'id':2,'success':False,'name':'Rabi'},\n",
    "        {'id':3,'success':True,'name':'Alex'}]\n",
    "\n",
    "count=0\n",
    "for x in database:\n",
    "    if 'success' in x and x['success']==True: count+=1\n",
    "        \n",
    "print('Count of dictionarys with \"success\" as True:',count)"
   ]
  },
  {
   "cell_type": "markdown",
   "id": "de26e438",
   "metadata": {},
   "source": [
    "7. Write a Python program to convert a list into a nested dictionary of keys"
   ]
  },
  {
   "cell_type": "code",
   "execution_count": 22,
   "id": "e14a7bc9",
   "metadata": {},
   "outputs": [
    {
     "name": "stdout",
     "output_type": "stream",
     "text": [
      "{'a': {'b': {'c': {'d': {}}}}}\n"
     ]
    }
   ],
   "source": [
    "list=['a','b','c','d']\n",
    "nested_dict={}\n",
    "current_dict=nested_dict\n",
    "\n",
    "for x in list:\n",
    "    current_dict[x]={}\n",
    "    current_dict=current_dict[x]\n",
    "    \n",
    "print(nested_dict)"
   ]
  },
  {
   "cell_type": "markdown",
   "id": "882489da",
   "metadata": {},
   "source": [
    "8. Write a Python program to sort a list alphabetically in a dictionary"
   ]
  },
  {
   "cell_type": "code",
   "execution_count": 23,
   "id": "e7b3c26d",
   "metadata": {},
   "outputs": [
    {
     "name": "stdout",
     "output_type": "stream",
     "text": [
      "{'city': ['akash', 'dev', 'raj'], 'name': ['delhi', 'mumbai', 'surat']}\n"
     ]
    }
   ],
   "source": [
    "my_dict={'city':['akash','raj','dev'],'name':['surat','mumbai','delhi']}\n",
    "for x in my_dict:\n",
    "    my_dict[x].sort()\n",
    "    \n",
    "print(my_dict)"
   ]
  },
  {
   "cell_type": "markdown",
   "id": "e5a6f1e8",
   "metadata": {},
   "source": [
    "9. Write a Python program to sort Counter by value. \n",
    "Sample data: {'Math':81, 'Physics':83, 'Chemistry':87} \n",
    "Expected data: [('Chemistry', 87), ('Physics', 83), ('Math', 81)]"
   ]
  },
  {
   "cell_type": "code",
   "execution_count": null,
   "id": "af13cf8e",
   "metadata": {},
   "outputs": [],
   "source": [
    "dict11={'Math':'81', 'Physics':'83', 'Chemistry':'87'}\n",
    "\n",
    "for x in dict11:\n",
    "    print(x.keys)"
   ]
  },
  {
   "cell_type": "markdown",
   "id": "a1eeeac9",
   "metadata": {},
   "source": [
    "10. Write a Python program to match key values in two dictionaries"
   ]
  },
  {
   "cell_type": "code",
   "execution_count": 25,
   "id": "3d677b9c",
   "metadata": {},
   "outputs": [
    {
     "name": "stdout",
     "output_type": "stream",
     "text": [
      "key1: 1 is present in both x and y\n"
     ]
    }
   ],
   "source": [
    "x = {'key1': 1, 'key2': 3, 'key3': 2}\n",
    "y = {'key1': 1, 'key2': 2}\n",
    "for key in x:\n",
    "   if key in y and x[key] == y[key]:\n",
    "    print(f\"{key}: {x[key]} is present in both x and y\")"
   ]
  },
  {
   "cell_type": "markdown",
   "id": "7511fdcb",
   "metadata": {},
   "source": [
    "----------- Tuple ----------- "
   ]
  },
  {
   "cell_type": "markdown",
   "id": "c35ff2bd",
   "metadata": {},
   "source": [
    "1. Write a Python program to create a tuple with different data types"
   ]
  },
  {
   "cell_type": "code",
   "execution_count": 26,
   "id": "ffdd892d",
   "metadata": {},
   "outputs": [
    {
     "name": "stdout",
     "output_type": "stream",
     "text": [
      "(1, 4.4, 'Minaxi', True)\n"
     ]
    }
   ],
   "source": [
    "tuple=(1,4.4,'Minaxi',True)\n",
    "print(tuple)"
   ]
  },
  {
   "cell_type": "markdown",
   "id": "b1c5ba63",
   "metadata": {},
   "source": [
    "2. Write a Python program to add an item in a tuple"
   ]
  },
  {
   "cell_type": "code",
   "execution_count": null,
   "id": "6771be79",
   "metadata": {},
   "outputs": [],
   "source": [
    "tuple=(1,4.4,'Minaxi',True)\n",
    "str(tuple)\n",
    "type(tuple)"
   ]
  },
  {
   "cell_type": "markdown",
   "id": "bd4f22f4",
   "metadata": {},
   "source": [
    "3. Write a Python program to add an item in a tuple"
   ]
  },
  {
   "cell_type": "code",
   "execution_count": 28,
   "id": "d1ae6c4e",
   "metadata": {},
   "outputs": [
    {
     "name": "stdout",
     "output_type": "stream",
     "text": [
      "(1, 4.4, 'minaxi', 1, 'minaxi')\n"
     ]
    }
   ],
   "source": [
    "data1=(1,4.4,'minaxi')\n",
    "data2=(1,'minaxi')\n",
    "data3=data1+data2\n",
    "print(data3)"
   ]
  },
  {
   "cell_type": "markdown",
   "id": "9d6da7e6",
   "metadata": {},
   "source": [
    "4. Write a Python program to find the repeated items of a tuple"
   ]
  },
  {
   "cell_type": "code",
   "execution_count": null,
   "id": "2b7a0e63",
   "metadata": {},
   "outputs": [],
   "source": [
    "tuple1=(55,66,55,8,2,5,8,66,3)\n",
    "\n",
    "repeted_item = tuple(x\n",
    "                  for x in set(tuple1)\n",
    "                   if tuple1.count(x)>1)\n",
    "\n",
    "print(repeted_item)"
   ]
  },
  {
   "cell_type": "markdown",
   "id": "765106f5",
   "metadata": {},
   "source": [
    "5. Write a Python program to find the length of a tuple"
   ]
  },
  {
   "cell_type": "code",
   "execution_count": 30,
   "id": "d0c940a2",
   "metadata": {},
   "outputs": [
    {
     "name": "stdout",
     "output_type": "stream",
     "text": [
      "9\n"
     ]
    }
   ],
   "source": [
    "tuple1=(55,66,55,8,2,5,8,66,3)\n",
    "\n",
    "tuple_len=len(tuple1)\n",
    "print(tuple_len)"
   ]
  },
  {
   "cell_type": "markdown",
   "id": "185a90c2",
   "metadata": {},
   "source": [
    "6. Write a Python program to convert a tuple to a dictionary"
   ]
  },
  {
   "cell_type": "code",
   "execution_count": 31,
   "id": "3ad56a1c",
   "metadata": {},
   "outputs": [
    {
     "name": "stdout",
     "output_type": "stream",
     "text": [
      "{'a': 11, 'b': 12, 'c': 13}\n"
     ]
    }
   ],
   "source": [
    "tuple1=((\"a\", 11) ,(\"b\" , 12) ,(\"c\",13))\n",
    "\n",
    "dict1=dict(tuple1)\n",
    "print(dict1)"
   ]
  },
  {
   "cell_type": "markdown",
   "id": "ced15fb4",
   "metadata": {},
   "source": [
    "7. Write a Python program to replace last value of tuples in a list"
   ]
  },
  {
   "cell_type": "code",
   "execution_count": 32,
   "id": "c656629e",
   "metadata": {},
   "outputs": [
    {
     "name": "stdout",
     "output_type": "stream",
     "text": [
      "[(10, 20, 200), (40, 50, 200), (70, 80, 200)]\n"
     ]
    }
   ],
   "source": [
    "list1 = [(10, 20, 40), \n",
    "         (40, 50, 60), \n",
    "         (70, 80, 90)]\n",
    "\n",
    "new_value = 200\n",
    "\n",
    "modified_list = [(x[:-1] + (new_value,)) \n",
    "                 for x in list1]\n",
    "\n",
    "print(modified_list)"
   ]
  },
  {
   "cell_type": "markdown",
   "id": "f97914dd",
   "metadata": {},
   "source": [
    "8. Write a Python program to replace last value of tuples in a list"
   ]
  },
  {
   "cell_type": "code",
   "execution_count": 33,
   "id": "6a9d734a",
   "metadata": {},
   "outputs": [
    {
     "name": "stdout",
     "output_type": "stream",
     "text": [
      "[('a', 'b'), ('a', 'b', 'c'), 'd']\n"
     ]
    }
   ],
   "source": [
    "list1=[(),(),('',),('a','b'),('a','b','c'),('d')]\n",
    "\n",
    "modified_item=[x\n",
    "              for x in list1\n",
    "              if x and x[-1]]\n",
    "\n",
    "print(modified_item)"
   ]
  },
  {
   "cell_type": "markdown",
   "id": "7e58683f",
   "metadata": {},
   "source": [
    "9. Write a Python program to count the elements in a list until an element is a tuple"
   ]
  },
  {
   "cell_type": "code",
   "execution_count": null,
   "id": "59d35a22",
   "metadata": {},
   "outputs": [],
   "source": [
    "list1=[1,2,3,(4,5),7,8,9]\n",
    "count=0\n",
    "for x in list1:\n",
    "    if isistance(x,tuple):\n",
    "        break\n",
    "        count+=1\n",
    "        \n",
    "print(\"Number of element before first tuplre is\",count)"
   ]
  },
  {
   "cell_type": "markdown",
   "id": "37516f53",
   "metadata": {},
   "source": [
    "----------- Set ----------- "
   ]
  },
  {
   "cell_type": "markdown",
   "id": "71c621f1",
   "metadata": {},
   "source": [
    "1. Write a Python program to iteration over sets"
   ]
  },
  {
   "cell_type": "code",
   "execution_count": 35,
   "id": "a8cb75f8",
   "metadata": {},
   "outputs": [
    {
     "name": "stdout",
     "output_type": "stream",
     "text": [
      "4\n",
      "22\n",
      "23\n",
      "13\n",
      "30\n"
     ]
    }
   ],
   "source": [
    "set1={23,22,13,4,30}\n",
    "for x in set1:\n",
    "    \n",
    "    print(x)"
   ]
  },
  {
   "cell_type": "markdown",
   "id": "7e76ec8b",
   "metadata": {},
   "source": [
    "2. Write a Python program to add member(s) in a set"
   ]
  },
  {
   "cell_type": "code",
   "execution_count": 36,
   "id": "f949e460",
   "metadata": {},
   "outputs": [
    {
     "name": "stdout",
     "output_type": "stream",
     "text": [
      "{16, 1, 2, 3, 4, 5, 17, 18}\n"
     ]
    }
   ],
   "source": [
    "set1={1,2,3,4,5,16,17}\n",
    "set1.add(18)\n",
    "\n",
    "print(set1)"
   ]
  },
  {
   "cell_type": "markdown",
   "id": "ffa36352",
   "metadata": {},
   "source": [
    "3. Write a Python program to remove item(s) from set"
   ]
  },
  {
   "cell_type": "code",
   "execution_count": 37,
   "id": "b5813f3a",
   "metadata": {},
   "outputs": [
    {
     "name": "stdout",
     "output_type": "stream",
     "text": [
      "{1, 2, 3, 4, 5, 17}\n"
     ]
    }
   ],
   "source": [
    "set1={1,2,3,4,5,16,17}\n",
    "set1.remove(16)\n",
    "\n",
    "print(set1)"
   ]
  },
  {
   "cell_type": "markdown",
   "id": "b276ec0b",
   "metadata": {},
   "source": [
    "4. Write a Python program to remove an item from a set if it is present in the set"
   ]
  },
  {
   "cell_type": "code",
   "execution_count": 38,
   "id": "eb93b049",
   "metadata": {},
   "outputs": [
    {
     "name": "stdout",
     "output_type": "stream",
     "text": [
      "{16, 1, 2, 3, 4, 17}\n"
     ]
    }
   ],
   "source": [
    "set1={1,2,3,4,5,16,17}\n",
    "item_remove=5\n",
    "set1.discard(item_remove)\n",
    "\n",
    "print(set1)"
   ]
  },
  {
   "cell_type": "markdown",
   "id": "a3e53c10",
   "metadata": {},
   "source": [
    "5. Write a Python program to create an intersection of sets"
   ]
  },
  {
   "cell_type": "code",
   "execution_count": 39,
   "id": "7f32564a",
   "metadata": {},
   "outputs": [
    {
     "name": "stdout",
     "output_type": "stream",
     "text": [
      "{66, 44, 22}\n"
     ]
    }
   ],
   "source": [
    "set1={11,22,33,44,55,66}\n",
    "set2={22,44,66}\n",
    "set3=set1 & set2\n",
    "\n",
    "print(set3)"
   ]
  },
  {
   "cell_type": "markdown",
   "id": "3a5fe6f9",
   "metadata": {},
   "source": [
    "6. Write a Python program to create a symmetric difference"
   ]
  },
  {
   "cell_type": "code",
   "execution_count": 40,
   "id": "002d42fe",
   "metadata": {},
   "outputs": [
    {
     "name": "stdout",
     "output_type": "stream",
     "text": [
      "{1, 2, 3, 6, 7, 8}\n"
     ]
    }
   ],
   "source": [
    "set1={1,2,3,4,5}\n",
    "set2={4,5,6,7,8}\n",
    "set3=set1^set2\n",
    "\n",
    "print(set3)"
   ]
  },
  {
   "cell_type": "markdown",
   "id": "fdeb49fc",
   "metadata": {},
   "source": [
    "7. Write a Python program to find maximum and the minimum value in a set"
   ]
  },
  {
   "cell_type": "code",
   "execution_count": 41,
   "id": "7f37fa1f",
   "metadata": {},
   "outputs": [
    {
     "name": "stdout",
     "output_type": "stream",
     "text": [
      "202\n",
      "41\n"
     ]
    }
   ],
   "source": [
    "set1={11,15,202,34,56}\n",
    "set2={240,212,111,98,41}\n",
    "set3=max(set1)\n",
    "set4=min(set2)\n",
    "\n",
    "print(set3); print(set4)"
   ]
  },
  {
   "cell_type": "markdown",
   "id": "18d46391",
   "metadata": {},
   "source": [
    "8. Write a Python program to find the length of a set"
   ]
  },
  {
   "cell_type": "code",
   "execution_count": 42,
   "id": "e5553c75",
   "metadata": {},
   "outputs": [
    {
     "name": "stdout",
     "output_type": "stream",
     "text": [
      "5\n",
      "4\n"
     ]
    }
   ],
   "source": [
    "set1={11,15,202,34,56}\n",
    "set2={240,212,111,41}\n",
    "set3=len(set1)\n",
    "set4=len(set2)\n",
    "\n",
    "print(set3)\n",
    "print(set4)"
   ]
  },
  {
   "cell_type": "markdown",
   "id": "1f434c09",
   "metadata": {},
   "source": [
    "----------- Loop ----------- "
   ]
  },
  {
   "cell_type": "markdown",
   "id": "048a9650",
   "metadata": {},
   "source": [
    "1. Write a Python program to construct the following pattern, using a nested for loop  * * * * * * * * * * * * * * * * * * * * * * * * *"
   ]
  },
  {
   "cell_type": "code",
   "execution_count": 43,
   "id": "784be9cc",
   "metadata": {},
   "outputs": [
    {
     "name": "stdout",
     "output_type": "stream",
     "text": [
      "* * * * * * * * * * * * * * * * * * * \n",
      "* * * \n",
      "* * \n",
      "* \n"
     ]
    }
   ],
   "source": [
    "num=5\n",
    "for i in range(1,num+1):\n",
    "    for j in range(i):\n",
    "        print('*',end=' ')\n",
    "for i in range(num-1,0,-1):\n",
    "    for j in range(i):\n",
    "        print('*',end=' ')\n",
    "    print()"
   ]
  },
  {
   "cell_type": "markdown",
   "id": "b1e336d5",
   "metadata": {},
   "source": [
    "2. Write a Python program to count the number of even and odd numbers from a series of"
   ]
  },
  {
   "cell_type": "code",
   "execution_count": 44,
   "id": "e6c826b0",
   "metadata": {},
   "outputs": [
    {
     "name": "stdout",
     "output_type": "stream",
     "text": [
      "Number of even number is: 4\n",
      "Number of odd number is: 5\n"
     ]
    }
   ],
   "source": [
    "database=(1,2,3,4,5,6,7,8,9)\n",
    "odd_num=0\n",
    "even_num=0\n",
    "\n",
    "for x in database:\n",
    "    if x %2==0: \n",
    "        even_num+=1\n",
    "    else:\n",
    "        odd_num+=1\n",
    "        \n",
    "print(\"Number of even number is:\",even_num)\n",
    "print(\"Number of odd number is:\",odd_num)"
   ]
  },
  {
   "cell_type": "markdown",
   "id": "1728c9c4",
   "metadata": {},
   "source": [
    "3. Write a Python program that prints all the numbers from 0 to 6 except 3 and 6"
   ]
  },
  {
   "cell_type": "code",
   "execution_count": 45,
   "id": "9307cf39",
   "metadata": {},
   "outputs": [
    {
     "name": "stdout",
     "output_type": "stream",
     "text": [
      "6 "
     ]
    }
   ],
   "source": [
    "for num in range(7):\n",
    "    if num ==3 or num ==6:\n",
    "        continue\n",
    "print(num,end=\" \")"
   ]
  },
  {
   "cell_type": "code",
   "execution_count": null,
   "id": "17fe4042",
   "metadata": {},
   "outputs": [],
   "source": [
    "a, b = 0, 1\n",
    "\n",
    "print(a, end=' ')\n",
    "\n",
    "while b <= 50:\n",
    "    print(b, end=' ')\n",
    "         (a, b = b, a + b)"
   ]
  },
  {
   "cell_type": "markdown",
   "id": "1e976bab",
   "metadata": {},
   "source": [
    "4. Write a Python program which takes two digits m (row) and n (column) as input and"
   ]
  },
  {
   "cell_type": "code",
   "execution_count": null,
   "id": "f191241c",
   "metadata": {},
   "outputs": [],
   "source": [
    "rows=int(input(\"Enter the number of rows:\"))\n",
    "\n",
    "columns=int(input(\"Enter the number of column\"))\n",
    "\n",
    "array_2D= [[i*j for j in range(columns)]\n",
    "          for i in range(rows)]\n",
    "for rows in array_2D:\n",
    "    \n",
    "    print(rows)"
   ]
  },
  {
   "cell_type": "markdown",
   "id": "74f6ba60",
   "metadata": {},
   "source": [
    "5. Write a Python program to find numbers between 100 and 400 (both included) where each digit of a number is an even number. The numbers obtained should be printed in a comma-separated sequence"
   ]
  },
  {
   "cell_type": "code",
   "execution_count": null,
   "id": "9125a48c",
   "metadata": {},
   "outputs": [],
   "source": [
    "even_numbers=[]\n",
    "\n",
    "for num in range(100,401):\n",
    "    digits=[int(digit) for digit in str(num)]\n",
    "    if all(digit %2==0 for digit in digits):\n",
    "        \n",
    "result = ', '.join(map(str,even_numbers))\n"
   ]
  },
  {
   "cell_type": "markdown",
   "id": "f19be8c9",
   "metadata": {},
   "source": [
    "6. Write a Python program to print alphabet pattern 'A'"
   ]
  },
  {
   "cell_type": "code",
   "execution_count": null,
   "id": "c2748aed",
   "metadata": {},
   "outputs": [],
   "source": [
    "def print_pattern():\n",
    "    for row in range(7):\n",
    "        for col in range(7):\n",
    "            if (col==0 or col==6 and (row!=0):\n",
    "               print('*',end=\"\")\n",
    "            elif (row==0 or row==3) and (col>0 and col<6):\n",
    "               print('*',end=\"\")\n",
    "            else:\n",
    "               print(\" \",end=\"\")\n",
    "        print()\n",
    "                "
   ]
  },
  {
   "cell_type": "markdown",
   "id": "40384d97",
   "metadata": {},
   "source": [
    "7. Write a Python program to print alphabet pattern 'P'"
   ]
  },
  {
   "cell_type": "code",
   "execution_count": null,
   "id": "b7bbc2a3",
   "metadata": {},
   "outputs": [],
   "source": [
    "def print_P():\n",
    "    rows=7\n",
    "    columns=6\n",
    "    \n",
    "    for row in range(rows):\n",
    "        for column in range(columns):\n",
    "            if (column==0 or (row in {0,3}) and 0<column<5 or (row in {1,2}) and column==5:\n",
    "                print('*',end=\"\")\n",
    "            else:\n",
    "                print('',end=\"\")\n",
    "            print()\n",
    "                \n",
    "print_P()"
   ]
  },
  {
   "cell_type": "markdown",
   "id": "71edf786",
   "metadata": {},
   "source": [
    "8. Write a Python program to check a triangle is valid or not"
   ]
  },
  {
   "cell_type": "code",
   "execution_count": 49,
   "id": "c35c8819",
   "metadata": {},
   "outputs": [],
   "source": [
    "def is_triangle(a, b, c):\n",
    "    if (a + b > c) and (b + c > a) and (c + a > b):\n",
    "        return True\n",
    "    else:\n",
    "        return False"
   ]
  },
  {
   "cell_type": "code",
   "execution_count": null,
   "id": "0c5560a1",
   "metadata": {},
   "outputs": [],
   "source": [
    "side1 = float(input(\"Enter the length of side 1: \"))\n",
    "side2 = float(input(\"Enter the length of side 2: \"))\n",
    "side3 = float(input(\"Enter the length of side 3: \"))\n",
    "\n",
    "if is_triangle(side1, side2, side3):\n",
    "    print(\"Triangle is valid.\")\n",
    "else:\n",
    "    print(\"Triangle is not valid.\")"
   ]
  },
  {
   "cell_type": "markdown",
   "id": "13d4a4ea",
   "metadata": {},
   "source": [
    "9. Write a Python program to create the multiplication table (from 1 to 10) of a number"
   ]
  },
  {
   "cell_type": "code",
   "execution_count": null,
   "id": "a462328a",
   "metadata": {},
   "outputs": [],
   "source": [
    "def multiplication_table(number):\n",
    "    for i in range(1, 11):\n",
    "        print(f\"{number} x {i} = {number * i}\")\n",
    "\n",
    "num = int(input(\"Enter a number: \"))  # Taking input from user\n",
    "\n",
    "multiplication_table(num) # Calling the function"
   ]
  },
  {
   "cell_type": "markdown",
   "id": "c0741a25",
   "metadata": {},
   "source": [
    "10. Write a Python program to construct the following pattern, using a nested loop number. 1 22 333 4444 55555 666666 7777777 88888888 999999999"
   ]
  },
  {
   "cell_type": "code",
   "execution_count": null,
   "id": "3972c5af",
   "metadata": {},
   "outputs": [],
   "source": [
    "def construct_pattern(n):\n",
    "    for i in range(1, n + 1):\n",
    "        for j in range(i):\n",
    "            print(i, end=\"\")\n",
    "        print()\n",
    "\n",
    "construct_pattern(9)   # Test the function"
   ]
  },
  {
   "cell_type": "markdown",
   "id": "ae956642",
   "metadata": {},
   "source": [
    "----------- Functions ----------- "
   ]
  },
  {
   "cell_type": "markdown",
   "id": "4147305b",
   "metadata": {},
   "source": [
    "1. Write a Python function to find the Max of three numbers"
   ]
  },
  {
   "cell_type": "code",
   "execution_count": 51,
   "id": "c8e4f5b0",
   "metadata": {},
   "outputs": [
    {
     "name": "stdout",
     "output_type": "stream",
     "text": [
      "The maximum number is: 10\n"
     ]
    }
   ],
   "source": [
    "def find_max(a,b,c):\n",
    "    max_num = max(a,b,c)\n",
    "    return max_num\n",
    "\n",
    "num1=5\n",
    "num2=10\n",
    "num3=7\n",
    "\n",
    "max_num=find_max(num1, num2, num3)\n",
    "print(\"The maximum number is:\",max_num)"
   ]
  },
  {
   "cell_type": "markdown",
   "id": "71b9add4",
   "metadata": {},
   "source": [
    "2. Write a Python function to sum all the numbers in a list"
   ]
  },
  {
   "cell_type": "code",
   "execution_count": 52,
   "id": "64fd8318",
   "metadata": {},
   "outputs": [
    {
     "name": "stdout",
     "output_type": "stream",
     "text": [
      "15\n"
     ]
    }
   ],
   "source": [
    "def sum_list_numbers(numbers):\n",
    "    total_sum=0\n",
    "    \n",
    "    for num in numbers:\n",
    "        if isinstance(num,(int, float)):\n",
    "            total_sum+=num\n",
    "    \n",
    "    return total_sum\n",
    "\n",
    "list1 = [1, 2, 3, 4, 5]\n",
    "print(sum_list_numbers(list1))"
   ]
  },
  {
   "cell_type": "markdown",
   "id": "0823dd6d",
   "metadata": {},
   "source": [
    "3. Write a Python function to multiply all the numbers in a list"
   ]
  },
  {
   "cell_type": "code",
   "execution_count": 53,
   "id": "aaa7d33e",
   "metadata": {},
   "outputs": [
    {
     "name": "stdout",
     "output_type": "stream",
     "text": [
      "120\n"
     ]
    }
   ],
   "source": [
    "def multiply_list(numbers):\n",
    "    result = 1\n",
    "    for num in numbers:\n",
    "        result *= num\n",
    "    return result\n",
    "\n",
    "list1 = [2, 3, 4, 5]\n",
    "print(multiply_list(list1))"
   ]
  },
  {
   "cell_type": "markdown",
   "id": "fbeefe36",
   "metadata": {},
   "source": [
    "4. Write a Python function that accepts a string and calculate the number of upper case letters and lower case letters"
   ]
  },
  {
   "cell_type": "code",
   "execution_count": 54,
   "id": "b915fae0",
   "metadata": {},
   "outputs": [
    {
     "name": "stdout",
     "output_type": "stream",
     "text": [
      "Number of uppercase letters: 2\n",
      "Number of lowercase letters: 8\n"
     ]
    }
   ],
   "source": [
    "def count_case_letters(string):\n",
    "    uppercase_count=0\n",
    "    lowercase_count=0\n",
    "\n",
    "    for char in string:\n",
    "        if char.isupper():\n",
    "            uppercase_count+= 1\n",
    "        elif char.islower():\n",
    "            lowercase_count+= 1\n",
    "\n",
    "    return uppercase_count,lowercase_count\n",
    "\n",
    "input_string=\"Hello, World!\"\n",
    "upper, lower=count_case_letters(input_string)\n",
    "print(\"Number of uppercase letters:\",upper)\n",
    "print(\"Number of lowercase letters:\",lower)"
   ]
  },
  {
   "cell_type": "markdown",
   "id": "ffdda050",
   "metadata": {},
   "source": [
    "5. Write a Python function that takes a list and returns a new list with unique elements of the first list"
   ]
  },
  {
   "cell_type": "code",
   "execution_count": 55,
   "id": "8dbd1a25",
   "metadata": {},
   "outputs": [
    {
     "name": "stdout",
     "output_type": "stream",
     "text": [
      "[1, 2, 3, 4, 5]\n"
     ]
    }
   ],
   "source": [
    "def get_unique_elements(lst):\n",
    "    unique_lst=[]\n",
    "    for el in lst:\n",
    "        if el not in unique_lst:\n",
    "            unique_lst.append(el)\n",
    "    return unique_lst\n",
    "\n",
    "list1=[1, 2, 2, 3, 4, 4, 5]\n",
    "unique_elements = get_unique_elements(list1)\n",
    "print(unique_elements)"
   ]
  },
  {
   "cell_type": "markdown",
   "id": "7a46cbc9",
   "metadata": {},
   "source": [
    "6. Write a Python program to print the even numbers from a given list"
   ]
  },
  {
   "cell_type": "code",
   "execution_count": 56,
   "id": "66c99368",
   "metadata": {},
   "outputs": [
    {
     "name": "stdout",
     "output_type": "stream",
     "text": [
      "2\n",
      "4\n",
      "6\n",
      "8\n",
      "10\n"
     ]
    }
   ],
   "source": [
    "def print_even_numbers(numbers):\n",
    "    for num in numbers:\n",
    "        if num % 2==0:\n",
    "            print(num)\n",
    "            \n",
    "numbers=[1,2,3,4,5,6,7,8,9,10]\n",
    "print_even_numbers(numbers)"
   ]
  },
  {
   "cell_type": "markdown",
   "id": "29d7d75f",
   "metadata": {},
   "source": [
    "7. Write a Python function that checks whether a passed string is palindrome or not"
   ]
  },
  {
   "cell_type": "code",
   "execution_count": null,
   "id": "5716eb1a",
   "metadata": {},
   "outputs": [],
   "source": [
    "def is_palindrome(s):   # Removing spaces and converting to lowercase\n",
    "    s = s.replace(\" \", \"\").lower()\n",
    "    reverse = s[::-1]    # Reversing the string\n",
    "        if s==reverse: # Checking if the original and reversed strings are equal\n",
    "        return True\n",
    "    else:\n",
    "        return False\n",
    "    \n",
    "string=\"Madam Arora teaches malayalam\"\n",
    "if is_palindrome(string):\n",
    "    print(f\"{string} is a palindrome\")\n",
    "else:\n",
    "    print(f\"{string} is not a palindrome\")"
   ]
  },
  {
   "cell_type": "markdown",
   "id": "a4b4cfcb",
   "metadata": {},
   "source": [
    "8. Write a Python program to access a function inside a function"
   ]
  },
  {
   "cell_type": "code",
   "execution_count": 58,
   "id": "88db9866",
   "metadata": {},
   "outputs": [
    {
     "name": "stdout",
     "output_type": "stream",
     "text": [
      "This is the outer function.\n",
      "This is the inner function.\n"
     ]
    }
   ],
   "source": [
    "def outer_function():\n",
    "    print(\"This is the outer function.\")\n",
    "    \n",
    "    def inner_function():\n",
    "        print(\"This is the inner function.\")\n",
    "        \n",
    "    # Call the inner function\n",
    "    inner_function()\n",
    "\n",
    "# Call the outer function\n",
    "outer_function()"
   ]
  },
  {
   "cell_type": "markdown",
   "id": "fb1fdd80",
   "metadata": {},
   "source": [
    "9. Write a Python program to detect the number of local variables declared in a function"
   ]
  },
  {
   "cell_type": "code",
   "execution_count": 59,
   "id": "fdacf7bb",
   "metadata": {},
   "outputs": [
    {
     "name": "stdout",
     "output_type": "stream",
     "text": [
      "3\n"
     ]
    }
   ],
   "source": [
    "import inspect\n",
    "\n",
    "def count_local_variables(func):\n",
    "    # Get the source code of the function\n",
    "    source_code=inspect.getsource(func)\n",
    "    \n",
    "    # Get the list of lines in the source code\n",
    "    lines=source_code.split('\\n')\n",
    "    \n",
    "    # Count the number of local variables declared\n",
    "    count=0\n",
    "    \n",
    "    for line in lines:\n",
    "        # Check if the line declares a local variable\n",
    "        if'=' in line and not line.startswith('def') and not line.startswith('#'):\n",
    "            count += 1\n",
    "    \n",
    "    return count\n",
    "\n",
    "def example_function():\n",
    "    x = 5\n",
    "    y = \"Hello\"\n",
    "    z = [1, 2, 3]\n",
    "    \n",
    "print(count_local_variables(example_function)) "
   ]
  }
 ],
 "metadata": {
  "kernelspec": {
   "display_name": "Python 3 (ipykernel)",
   "language": "python",
   "name": "python3"
  },
  "language_info": {
   "codemirror_mode": {
    "name": "ipython",
    "version": 3
   },
   "file_extension": ".py",
   "mimetype": "text/x-python",
   "name": "python",
   "nbconvert_exporter": "python",
   "pygments_lexer": "ipython3",
   "version": "3.11.4"
  }
 },
 "nbformat": 4,
 "nbformat_minor": 5
}
